{
 "cells": [
  {
   "cell_type": "markdown",
   "metadata": {},
   "source": [
    "# Ranking scores split by density (D3)\n",
    "### Lower and higher than a value and plotting each group to comparison\n",
    "---"
   ]
  },
  {
   "cell_type": "markdown",
   "metadata": {},
   "source": [
    "### Declaring all functions"
   ]
  },
  {
   "cell_type": "code",
   "execution_count": 1,
   "metadata": {},
   "outputs": [],
   "source": [
    "get_dataset_names <- function(split, dataset_names_all){\n",
    "    low_d    <- list()\n",
    "    high_d   <- list()\n",
    "    low_high <- list()\n",
    "    for (d in names(dataset_names_all)){\n",
    "        if(as.numeric(d) >= split){\n",
    "            low_d  <- c(low_d,dataset_names_all[[d]])\n",
    "        }else{ # as.numeric(d) < split\n",
    "            high_d <- c(high_d,dataset_names_all[[d]])\n",
    "        }\n",
    "    }\n",
    "    low_high[[1]] <- low_d\n",
    "    low_high[[2]] <- high_d\n",
    "    return(low_high)\n",
    "}"
   ]
  },
  {
   "cell_type": "code",
   "execution_count": 2,
   "metadata": {},
   "outputs": [],
   "source": [
    "cantao_plot <- function(dataset, x_data, y_data, group_by_data, group_by_label, measure='mean', visu='points'){\n",
    "    require(ggplot2)\n",
    "    require(gridExtra)\n",
    "    if(visu == 'points'){\n",
    "        #require loads the package only if its not already loaded\n",
    "        require(FSA)\n",
    "        Sum = Summarize(y_data ~ x_data + group_by_data, data=dataset)\n",
    "        #standard error\n",
    "        #Sum$se = Sum$sd / sqrt(Sum$n)\n",
    "        require(dplyr)\n",
    "        Sum <- Sum %>%\n",
    "        group_by(x_data) %>%\n",
    "        mutate(width = 0.5 * as.numeric(x_data))\n",
    "      if(measure == 'mean'){\n",
    "          y_data  = Sum$mean\n",
    "          err_min = Sum$mean - Sum$sd\n",
    "          err_max = Sum$mean + Sum$sd\n",
    "      }else if(measure == 'median'){# == 'median'\n",
    "          y_data  = Sum$median\n",
    "          err_min = Sum$median - (Sum$Q3 - Sum$Q1)\n",
    "          err_max = Sum$median + (Sum$Q3 - Sum$Q1)\n",
    "      }else{\n",
    "          print(\"please set the measure variable to 'mean' or 'median'\")\n",
    "      }\n",
    "      pd = position_dodge(0.8) #0.5   ### How much to jitter the points on the plot\n",
    "      p <- ggplot(Sum,                ### The data frame to use.  \n",
    "                  aes(x     = factor(x_data, levels = unique(x_data)),\n",
    "                      y     = y_data,\n",
    "                      color = group_by_data,\n",
    "                      group = group_by_data)) +\n",
    "           #legend to the group_by variable\n",
    "           scale_color_discrete(name=group_by_label) +\n",
    "           scale_shape_discrete(name=group_by_label) + \n",
    "           geom_point(aes(shape=group_by_data),  size  = 3.0, position = pd) +\n",
    "           geom_errorbar(aes(ymin  = err_min,  #se\n",
    "                             ymax  = err_max), #se\n",
    "                         #linetype=group_by_data),\n",
    "                         width = 1.0, #30.5\n",
    "                         size  = 0.5, \n",
    "                         position = pd) +\n",
    "           #geom_line(aes(linetype=group_by_data),  size  = 2.0, position = pd) + \n",
    "           geom_line(size  = 0.7, position = pd)\n",
    "    }else if(visu == 'boxplot'){\n",
    "        err_min = 0\n",
    "        err_max = 1\n",
    "        p <- ggplot(dataset,                \n",
    "                      aes(x    = factor(x_data),                  #x_data\n",
    "                          y    = value,              #y_data\n",
    "                          fill = group_by_data)) +      #group_by_data\n",
    "            geom_boxplot() +\n",
    "            labs(fill=group_by_label)\n",
    "    }else{\n",
    "        print(\"please set the visu variable to 'points' or 'boxplot'\")\n",
    "    }\n",
    "    p <- p + \n",
    "    theme_bw() + #background of the plotting area \n",
    "    theme(plot.title = element_text(hjust = 0.5)) +\n",
    "    xlab(expression(paste(\"Total Features \", (x * rho + rho)))) + #(2^x * rho + rho)\n",
    "    ylab(\"Mean Ranking Score\") +\n",
    "    ggtitle(label = dataset$title)    #+\n",
    "    ylim(\n",
    "       min(0, err_min), \n",
    "       max(1, err_max)\n",
    "    )\n",
    "    return (p)\n",
    "}"
   ]
  },
  {
   "cell_type": "code",
   "execution_count": 3,
   "metadata": {},
   "outputs": [],
   "source": [
    "get_ndc <- function(ori, noi, dataset_names, d3_description){\n",
    "    ndc <- subset(vec_newformat, dataset %in% dataset_names & (noise == noi & (orientation == ori | centrality_or_forest == \"f\")))\n",
    "    ndc$title <- paste0('Noise Rate: ', noi,'%;', ' Orientation: ', ori,'; ', d3_description)    \n",
    "    \n",
    "    return(ndc)\n",
    "}"
   ]
  },
  {
   "cell_type": "code",
   "execution_count": 4,
   "metadata": {},
   "outputs": [],
   "source": [
    "get_plot <- function(ndc, measure, visu, plot_output_path, prediction_type, scoring_measure, ori, noi){\n",
    "    p <- list()\n",
    "    i <- 1\n",
    "    for (data_subset in ndc){\n",
    "        dataset <- data_subset\n",
    "        x_data <- as.factor(data_subset$R)\n",
    "        y_data <- data_subset$value\n",
    "        group_by_data <- data_subset$centrality\n",
    "        group_by_label <- 'Centrality'\n",
    "\n",
    "        p[[i]] <- cantao_plot(dataset = data_subset,\n",
    "                              x_data = as.factor(data_subset$R),\n",
    "                              y_data = data_subset$value,\n",
    "                              group_by_data = data_subset$centrality,\n",
    "                              group_by_label = 'Centrality',\n",
    "                              measure,\n",
    "                              visu)\n",
    "        i=i+1\n",
    "    }\n",
    "    return(p)\n",
    "#     g <- arrangeGrob(grobs = p, \n",
    "#                 layout_matrix = rbind(c(1  ),\n",
    "#                                       c(2)))\n",
    "#     ggsave(file=paste0(plot_output_path,'_',prediction_type,'_',scoring_measure,'_',ori,'_',noi,'.pdf'), g,width = 10, height = 10)\n",
    "}"
   ]
  },
  {
   "cell_type": "markdown",
   "metadata": {},
   "source": [
    "### Setting fixed parameters"
   ]
  },
  {
   "cell_type": "code",
   "execution_count": 5,
   "metadata": {},
   "outputs": [],
   "source": [
    "#Declaring all dataset names and density (D3)\n",
    "dataset_names_all <- list(\n",
    "    '6.648657176' = c('spirals',\n",
    "                        '2dnormals_c2',\n",
    "                        'circle_d2',\n",
    "                        'ringnorm_d2',\n",
    "                        'threenorm_d2',\n",
    "                        'twonorm_d2',\n",
    "                        'spirals_c2',\n",
    "                        'circles',\n",
    "                        'moons',\n",
    "                        'classification_c2_d2',\n",
    "                        'gaussian_quantiles_c2_d2',\n",
    "                        'blobs_c2_d2'),\n",
    "    '6.233619677' = c('cassini',\n",
    "                        '2dnormals_c3',\n",
    "                        'xor_d2',\n",
    "                        'spirals_c3',\n",
    "                        'classification_c3_d2',\n",
    "                        'gaussian_quantiles_c3_d2',\n",
    "                        'blobs_c3_d2'),\n",
    "    '5.911691582' = c('shapes',\n",
    "                        'smiley',\n",
    "                        'hypercube_d2'),\n",
    "    '5.648657176' = c('2dnormals_c5',\n",
    "                        'spirals_c5',\n",
    "                        'classification_c5_d2',\n",
    "                        'gaussian_quantiles_c5_d2',\n",
    "                        'blobs_c5_d2'),\n",
    "    '5.233619677' = c('2dnormals_c7',\n",
    "                        'xor_d3',\n",
    "                        'classification_c7_d2',\n",
    "                        'gaussian_quantiles_c7_d2',\n",
    "                        'blobs_c7_d2'),\n",
    "    '4.194835634' = c('circle_d3',\n",
    "                        'ringnorm_d3',\n",
    "                        'threenorm_d3',\n",
    "                        'twonorm_d3',\n",
    "                        'classification_c2_d3',\n",
    "                        'gaussian_quantiles_c2_d3',\n",
    "                        'blobs_c2_d3'),\n",
    "    '3.932976127' = c('dinisurface',\n",
    "                        'helicoid',\n",
    "                        'swissroll',\n",
    "                        'classification_c3_d3',\n",
    "                        'gaussian_quantiles_c3_d3',\n",
    "                        'blobs_c3_d3'),\n",
    "    '3.729862113' = c('cuboids'),\n",
    "    '3.56390588' = c('classification_c5_d3',\n",
    "                        'gaussian_quantiles_c5_d3',\n",
    "                        'blobs_c5_d3'),\n",
    "    '3.302046373' = c('xor_d3',\n",
    "                        'classification_c7_d3',\n",
    "                        'gaussian_quantiles_c7_d3',\n",
    "                        'blobs_c7_d3'),\n",
    "    '3.194835634' = c('hypercube_d3'),\n",
    "    '2.863420788' = c('circle_d5',\n",
    "                        'ringnorm_d5',\n",
    "                        'threenorm_d5',\n",
    "                        'twonorm_d5',\n",
    "                        'gaussian_quantiles_c2_d5',\n",
    "                        'blobs_c2_d5'),\n",
    "    '2.684673867' = c('classification_c3_d5',\n",
    "                        'gaussian_quantiles_c3_d5',\n",
    "                        'blobs_c3_d5'),\n",
    "    '2.43274423' = c('classification_c5_d5',\n",
    "                        'gaussian_quantiles_c5_d5',\n",
    "                        'blobs_c5_d5'),\n",
    "    '2.253997309' = c('classification_c7_d5',\n",
    "                        'gaussian_quantiles_c7_d5',\n",
    "                        'blobs_c7_d5'),\n",
    "    '2.368299471' = c('circle_d7',\n",
    "                        'ringnorm_d7',\n",
    "                        'threenorm_d7',\n",
    "                        'twonorm_d7',\n",
    "                        'gaussian_quantiles_c2_d7',\n",
    "                        'blobs_c2_d7'),\n",
    "    '2.220460131' = c('classification_c3_d7',\n",
    "                        'gaussian_quantiles_c3_d7',\n",
    "                        'blobs_c3_d7'),\n",
    "    '2.012092284' = c('classification_c5_d7',\n",
    "                        'gaussian_quantiles_c5_d7',\n",
    "                        'blobs_c5_d7'),\n",
    "    '1.864252943' = c('classification_c7_d7',\n",
    "                        'gaussian_quantiles_c7_d7',\n",
    "                        'blobs_c7_d7'),\n",
    "    '1.419209742' = c('waveform')\n",
    ")"
   ]
  },
  {
   "cell_type": "code",
   "execution_count": 6,
   "metadata": {},
   "outputs": [
    {
     "data": {
      "text/html": [
       "'E:/Mestrado_ranker/R_output_analisys/data_scores/classification/scores_binary_rs3.csv'"
      ],
      "text/latex": [
       "'E:/Mestrado\\_ranker/R\\_output\\_analisys/data\\_scores/classification/scores\\_binary\\_rs3.csv'"
      ],
      "text/markdown": [
       "'E:/Mestrado_ranker/R_output_analisys/data_scores/classification/scores_binary_rs3.csv'"
      ],
      "text/plain": [
       "[1] \"E:/Mestrado_ranker/R_output_analisys/data_scores/classification/scores_binary_rs3.csv\""
      ]
     },
     "metadata": {},
     "output_type": "display_data"
    }
   ],
   "source": [
    "prediction_type <- \"classification\" #classification  #regression\n",
    "scores_path     <- paste0('E:/Mestrado_ranker/R_output_analisys/data_scores/',prediction_type,'/')\n",
    "\n",
    "files <- list.files(path=scores_path, full.names = TRUE, pattern = \"\\\\.csv$\")\n",
    "file <- files[3]   #1 == binary_rs1 .. 3 == binary_rs3\n",
    "\n",
    "#the 2 lines below get the scoring measure NAME\n",
    "sub_partial <- sub(\".*scores_\", \"\", file)\n",
    "scoring_measure <- sub(\"\\\\..*\", \"\", sub_partial)\n",
    "file\n",
    "\n",
    "vec_newformat <- read.table(file, header=TRUE, sep=\",\")\n",
    "\n",
    "measure <- 'mean' # 'median'  'mean'\n",
    "visu    <- 'points' #'points' 'boxplot'\n",
    "plot_output_path <- 'E:/Mestrado_ranker/R_output_analisys/plots/split_plot/highlow'\n",
    "file_extension <- '.png'"
   ]
  },
  {
   "cell_type": "markdown",
   "metadata": {},
   "source": [
    "### Setting variables (ori,noi,split), calling the functions and saving the graph"
   ]
  },
  {
   "cell_type": "code",
   "execution_count": 12,
   "metadata": {
    "scrolled": false
   },
   "outputs": [
    {
     "name": "stdout",
     "output_type": "stream",
     "text": [
      "Low Density (>= 3 ):  54 datasets\n",
      "High Density (< 3 ):  31 datasets"
     ]
    },
    {
     "data": {
      "image/png": "[encoded data removed]",
      "text/plain": [
       "plot without title"
      ]
     },
     "metadata": {
      "image/png": {
       "height": 420,
       "width": 420
      },
      "text/plain": {
       "height": 420,
       "width": 420
      }
     },
     "output_type": "display_data"
    }
   ],
   "source": [
    "ori   <- 'in'\n",
    "noi   <- 40\n",
    "split <- 3 #density\n",
    "\n",
    "ndc   <- list()\n",
    "dataset_names <- get_dataset_names(split, dataset_names_all)\n",
    "ndc[[1]] <- get_ndc(ori, noi, dataset_names[[1]], d3_description = paste0('Low Density (>=',split,')')) #'density>4'\n",
    "ndc[[2]] <- get_ndc(ori, noi, dataset_names[[2]], d3_description = paste0('High Density (<',split,')')) #'density<4'\n",
    "\n",
    "#printing amount of datasets in each group\n",
    "cat('Low Density (>=',split,'): ', length(dataset_names[[1]]), 'datasets\\n')\n",
    "cat('High Density (<',split,'): ', length(dataset_names[[2]]), 'datasets')\n",
    "\n",
    "p <- get_plot(ndc, measure, visu, plot_output_path, prediction_type, scoring_measure, ori, noi)\n",
    "g <- arrangeGrob(grobs = p, \n",
    "            layout_matrix = rbind(c(1  ),\n",
    "                                  c(2)))\n",
    "plot(g)\n",
    "ggsave(file=paste0(plot_output_path,'_',split,'_',prediction_type,'_',scoring_measure,'_',ori,'_',noi,file_extension), g,width = 10, height = 10)"
   ]
  },
  {
   "cell_type": "code",
   "execution_count": null,
   "metadata": {},
   "outputs": [],
   "source": [
    "#finishes here"
   ]
  },
  {
   "cell_type": "markdown",
   "metadata": {},
   "source": [
    "# ----------------------below its just new plot tests ------------------------------------"
   ]
  },
  {
   "cell_type": "markdown",
   "metadata": {},
   "source": [
    "## Plotting 3 graphs. 1) full graph; 2)R value 1 to 32; 3) R value 64 to 1024"
   ]
  },
  {
   "cell_type": "code",
   "execution_count": 13,
   "metadata": {},
   "outputs": [
    {
     "data": {
      "image/png": "[encoded data removed]",
      "text/plain": [
       "plot without title"
      ]
     },
     "metadata": {
      "image/png": {
       "height": 420,
       "width": 420
      },
      "text/plain": {
       "height": 420,
       "width": 420
      }
     },
     "output_type": "display_data"
    }
   ],
   "source": [
    "noi <- 40\n",
    "ori <- 'in'\n",
    "\n",
    "ndc <- list()\n",
    "ndc[[1]] <- subset(vec_newformat, noise == noi & (orientation == ori | centrality_or_forest == \"f\"))\n",
    "ndc[[1]]$title <- paste0('Noise Rate: ', noi,'%;', ' Orientation: ', ori)\n",
    "\n",
    "ndc[[2]] <- subset(ndc[[1]], R <= 32)\n",
    "ndc[[2]]$title <- paste0('Noise Rate: ', noi,'%;', ' Orientation: ', ori, ' Low Density (<1)')\n",
    "\n",
    "ndc[[3]] <- subset(ndc[[1]], R > 32)\n",
    "ndc[[3]]$title <- paste0('Noise Rate: ', noi,'%;', ' Orientation: ', ori, ' High Density (>=1)')\n",
    "\n",
    "measure = 'mean' # 'median'  'mean'\n",
    "visu    = 'points' #'points' 'boxplot'\n",
    "p <- list()\n",
    "i <- 1\n",
    "for (data_subset in ndc){\n",
    "    dataset <- data_subset\n",
    "    x_data <- as.factor(data_subset$R)\n",
    "    y_data <- data_subset$value\n",
    "    group_by_data <- data_subset$centrality\n",
    "    group_by_label <- 'Centrality'\n",
    "    \n",
    "    p[[i]] <- cantao_plot(dataset = data_subset,\n",
    "                          x_data = as.factor(data_subset$R),\n",
    "                          y_data = data_subset$value,\n",
    "                          group_by_data = data_subset$centrality,\n",
    "                          group_by_label = 'Centrality',\n",
    "                          measure,\n",
    "                          visu)\n",
    "    i=i+1\n",
    "}\n",
    "\n",
    "# arrange to plot\n",
    "grid.arrange(\n",
    "  grobs = p,\n",
    "  layout_matrix = rbind(c(1),\n",
    "                        c(2, 3))\n",
    ")\n",
    "\n",
    "# ggsave(file=paste0('E:/Mestrado_ranker/R_output_analisys/plots/split_plot/','split32_classification_binary_rs3_in_40.pdf'), g,width = 10, height = 10)"
   ]
  },
  {
   "cell_type": "markdown",
   "metadata": {},
   "source": [
    "### plotting all ndc values ... noi in c(5,10,20,40) and ori in c(\"g\", \"in\", \"out\") .. using BOXPLOT"
   ]
  },
  {
   "cell_type": "raw",
   "metadata": {},
   "source": [
    "prediction_type <- \"classification\" #classification\n",
    "scores_path     <- paste0('E:/Mestrado_ranker/R_output_analisys/data_scores/',prediction_type,'/')\n",
    "files <- list.files(path=scores_path, full.names = TRUE, pattern = \"\\\\.csv$\")\n",
    "\n",
    "for (file in files[3]){\n",
    "  vec_newformat <- read.table(file, header=TRUE, sep=\",\")\n",
    "  # NDC --- transposed of DNC\n",
    "  #saving all 12 subsets for NDC in ndc[[]] list\n",
    "  ndc <- list() #Noise Dataset Centrality (NDC)\n",
    "  i=1\n",
    "  for(noi in c(5,10,20,40)){ #for each noise percentage on examples\n",
    "    for(ori in c(\"g\", \"in\", \"out\")){ #for each orientation in graph\n",
    "      ndc[[i]] <- subset(vec_newformat, noise == noi & (orientation == ori | centrality_or_forest == \"f\"))\n",
    "      ndc[[i]]$title <- paste0('Noise Rate: ', noi,'%;', ' Orientation: ', ori)\n",
    "      i=i+1\n",
    "    }\n",
    "  }\n",
    "}\n",
    "\n",
    "require(ggplot2)\n",
    "require(gridExtra)\n",
    "\n",
    "p <- list()\n",
    "i <- 1\n",
    "for (data_subset in ndc){\n",
    "    dataset <- data_subset\n",
    "    x_data <- as.factor(data_subset$R)\n",
    "    y_data <- data_subset$value\n",
    "    group_by_data <- data_subset$centrality\n",
    "    group_by_label <- 'Centrality'\n",
    "    \n",
    "    p[[i]] <- ggplot(dataset,                \n",
    "                      aes(x    = as.factor(x_data),                  #x_data\n",
    "                          y    = value,              #y_data\n",
    "                          fill = group_by_data)) +      #group_by_data\n",
    "                    geom_boxplot()+ \n",
    "                    labs(fill=group_by_label)\n",
    "              \n",
    "    i=i+1\n",
    "}           \n",
    "p"
   ]
  }
 ],
 "metadata": {
  "kernelspec": {
   "display_name": "R",
   "language": "R",
   "name": "ir"
  },
  "language_info": {
   "codemirror_mode": "r",
   "file_extension": ".r",
   "mimetype": "text/x-r-source",
   "name": "R",
   "pygments_lexer": "r",
   "version": "3.6.2"
  }
 },
 "nbformat": 4,
 "nbformat_minor": 4
}
